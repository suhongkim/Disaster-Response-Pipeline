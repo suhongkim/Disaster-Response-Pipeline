{
 "cells": [
  {
   "cell_type": "markdown",
   "metadata": {},
   "source": [
    "# ML Pipeline Preparation\n",
    "Follow the instructions below to help you create your ML pipeline.\n",
    "### 1. Import libraries and load data from database.\n",
    "- Import Python libraries\n",
    "- Load dataset from database with [`read_sql_table`](https://pandas.pydata.org/pandas-docs/stable/generated/pandas.read_sql_table.html)\n",
    "- Define feature and target variables X and Y"
   ]
  },
  {
   "cell_type": "code",
   "execution_count": 1,
   "metadata": {},
   "outputs": [
    {
     "name": "stdout",
     "output_type": "stream",
     "text": [
      "[nltk_data] Downloading package punkt to /root/nltk_data...\n",
      "[nltk_data]   Unzipping tokenizers/punkt.zip.\n",
      "[nltk_data] Downloading package wordnet to /root/nltk_data...\n",
      "[nltk_data]   Unzipping corpora/wordnet.zip.\n",
      "[nltk_data] Downloading package stopwords to /root/nltk_data...\n",
      "[nltk_data]   Unzipping corpora/stopwords.zip.\n"
     ]
    }
   ],
   "source": [
    "# import libraries\n",
    "import numpy as np\n",
    "import pandas as pd\n",
    "import re\n",
    "import pickle\n",
    "import nltk \n",
    "from nltk.tokenize import word_tokenize\n",
    "from nltk.stem import WordNetLemmatizer \n",
    "from nltk.corpus import stopwords\n",
    "nltk.download(['punkt', 'wordnet', 'stopwords'])\n",
    "from sqlalchemy import create_engine\n",
    "from sklearn.model_selection import train_test_split, GridSearchCV\n",
    "from sklearn.pipeline import Pipeline, FeatureUnion\n",
    "from sklearn.feature_extraction.text import CountVectorizer, TfidfTransformer\n",
    "from sklearn.multioutput import MultiOutputClassifier # fitting one classifier per each target \n",
    "from sklearn.ensemble import RandomForestClassifier, AdaBoostClassifier # predictor \n",
    "from sklearn.linear_model import SGDClassifier, LogisticRegression, LogisticRegressionCV\n",
    "from sklearn.metrics import classification_report, accuracy_score\n",
    "from sklearn.utils.class_weight import compute_sample_weight\n"
   ]
  },
  {
   "cell_type": "code",
   "execution_count": 2,
   "metadata": {
    "scrolled": false
   },
   "outputs": [
    {
     "name": "stdout",
     "output_type": "stream",
     "text": [
      "['death', 'fire', 'direct_report', 'water', 'medical_products', 'military', 'medical_help', 'transport', 'electricity', 'buildings', 'shops', 'security', 'storm', 'food', 'related', 'other_weather', 'missing_people', 'other_aid', 'request', 'clothing', 'aid_centers', 'weather_related', 'earthquake', 'shelter', 'floods', 'cold', 'offer', 'refugees', 'money', 'other_infrastructure', 'aid_related', 'search_and_rescue', 'infrastructure_related', 'tools', 'hospitals']\n"
     ]
    }
   ],
   "source": [
    "# load data from database\n",
    "engine = create_engine('sqlite:///DisasterResponse_cleaned.db')\n",
    "df = pd.read_sql_table('DisasterResponse_cleaned', con=engine)\n",
    "\n",
    "category_names = list(set(df.columns) - set(['message', 'id', 'original', 'genre']))\n",
    "X = df['message']  # it should be series for CountVectorizer input!!!!!!!\n",
    "Y = df[category_names]\n",
    "\n",
    "print(category_names)"
   ]
  },
  {
   "cell_type": "markdown",
   "metadata": {},
   "source": [
    "### 2. Write a tokenization function to process your text data"
   ]
  },
  {
   "cell_type": "code",
   "execution_count": 3,
   "metadata": {},
   "outputs": [],
   "source": [
    "def tokenize(text):\n",
    "    # Replace Punctuations with a whitespace\n",
    "    text = re.sub(r\"[^a-zA-Z0-9]\", \" \", text)\n",
    "    \n",
    "    # tokenize with lemmatizing and stopwords removal  \n",
    "    lemmatizer = WordNetLemmatizer()\n",
    "    tokens = [lemmatizer.lemmatize(t.lower().strip()) for t in word_tokenize(text) \\\n",
    "              if t not in stopwords.words(\"english\")]\n",
    "\n",
    "    return tokens"
   ]
  },
  {
   "cell_type": "markdown",
   "metadata": {},
   "source": [
    "### 3. Build a machine learning pipeline\n",
    "This machine pipeline should take in the `message` column as input and output classification results on the other 36 categories in the dataset. You may find the [MultiOutputClassifier](http://scikit-learn.org/stable/modules/generated/sklearn.multioutput.MultiOutputClassifier.html) helpful for predicting multiple target variables."
   ]
  },
  {
   "cell_type": "code",
   "execution_count": 5,
   "metadata": {},
   "outputs": [],
   "source": [
    "from sklearn.base import BaseEstimator, TransformerMixin\n",
    "\n",
    "class Debug(BaseEstimator, TransformerMixin): \n",
    "    def transform(self, X): \n",
    "        print(X.shape)\n",
    "        return X \n",
    "    def fit(self, X, y=None, **fit_params): \n",
    "        return self"
   ]
  },
  {
   "cell_type": "code",
   "execution_count": 6,
   "metadata": {},
   "outputs": [],
   "source": [
    "pipeline = Pipeline([\n",
    "    ('vect', CountVectorizer(tokenizer=tokenize)), \n",
    "    ('tfidf', TfidfTransformer()),\n",
    "    ('predictor', MultiOutputClassifier(LogisticRegression()))\n",
    "])"
   ]
  },
  {
   "cell_type": "markdown",
   "metadata": {},
   "source": [
    "### 4. Train pipeline\n",
    "- Split data into train and test sets\n",
    "- Train pipeline"
   ]
  },
  {
   "cell_type": "code",
   "execution_count": 7,
   "metadata": {
    "scrolled": true
   },
   "outputs": [],
   "source": [
    "X_train, X_test, Y_train, Y_test = train_test_split(X, Y)\n",
    "# pipeline.fit(X_train, Y_train)"
   ]
  },
  {
   "cell_type": "markdown",
   "metadata": {},
   "source": [
    "### 5. Test your model\n",
    "Report the f1 score, precision and recall for each output category of the dataset. You can do this by iterating through the columns and calling sklearn's `classification_report` on each."
   ]
  },
  {
   "cell_type": "code",
   "execution_count": 35,
   "metadata": {},
   "outputs": [],
   "source": [
    "def generate_classification_report(model, X_test, Y_test, category_names):\n",
    "    # inference on the test dataset\n",
    "    Y_pred = pd.DataFrame(model.predict(X_test), columns=Y_test.columns)\n",
    "    \n",
    "    # generate the report \n",
    "    df_report = pd.DataFrame(columns=['accuracy', 'precision', 'recall', 'f1-score', \\\n",
    "                                      'distribution-0', 'distribution-1'])\n",
    "    for col in Y_test.columns:\n",
    "        # accuracy score from sklearn 'accruacy_score'\n",
    "        accuracy = accuracy_score(Y_test[col], Y_pred[col])\n",
    "        # other scores from sklearn 'classification_report'\n",
    "        sample_weight = compute_sample_weight('balanced', Y_test[col]) # imbalanced dataset \n",
    "        report_str = classification_report(Y_test[col], Y_pred[col], sample_weight=sample_weight)\n",
    "        metrics = report_str.split('\\n')[5].split()[3:-1] \n",
    "        metrics = [float(m) for m in metrics] # flot conversion   \n",
    "        # counts the class\n",
    "        distributions = Y_test[col].value_counts().values / Y_test[col].shape[0]\n",
    "        # append the results to the df_Report\n",
    "        df_report.loc[col,:] =[accuracy] + metrics + distributions.tolist() \n",
    "    \n",
    "    # add an average metrics of all categories \n",
    "    df_report.loc['avg',:] = df_report.mean()\n",
    "    \n",
    "    # print the report to the terminal \n",
    "    print(df_report.loc[category_names+['avg']]) \n",
    "    print(model.best_params_) \n",
    "    \n",
    "    # save the report to the markdown table text\n",
    "    with open('eval_report_markdown.txt', 'wt') as mf:\n",
    "        fmt = ['---' for i in range(len(df_report.columns))]\n",
    "        df_fmt = pd.DataFrame([fmt], columns=df_report.columns)\n",
    "        df_formatted = pd.concat([df_fmt, df_report])\n",
    "        markdown_str = df_formatted.to_csv(sep=\"|\", index=False)\n",
    "        mf.write(markdown_str)\n",
    "    print('Evaluation report is generated in models/eval_report_markdown.txt')"
   ]
  },
  {
   "cell_type": "markdown",
   "metadata": {},
   "source": [
    "### 6. Improve your model\n",
    "Use grid search to find better parameters. "
   ]
  },
  {
   "cell_type": "code",
   "execution_count": 11,
   "metadata": {
    "scrolled": true
   },
   "outputs": [
    {
     "data": {
      "text/plain": [
       "dict_keys(['memory', 'steps', 'vect', 'tfidf', 'predictor', 'vect__analyzer', 'vect__binary', 'vect__decode_error', 'vect__dtype', 'vect__encoding', 'vect__input', 'vect__lowercase', 'vect__max_df', 'vect__max_features', 'vect__min_df', 'vect__ngram_range', 'vect__preprocessor', 'vect__stop_words', 'vect__strip_accents', 'vect__token_pattern', 'vect__tokenizer', 'vect__vocabulary', 'tfidf__norm', 'tfidf__smooth_idf', 'tfidf__sublinear_tf', 'tfidf__use_idf', 'predictor__estimator__C', 'predictor__estimator__class_weight', 'predictor__estimator__dual', 'predictor__estimator__fit_intercept', 'predictor__estimator__intercept_scaling', 'predictor__estimator__max_iter', 'predictor__estimator__multi_class', 'predictor__estimator__n_jobs', 'predictor__estimator__penalty', 'predictor__estimator__random_state', 'predictor__estimator__solver', 'predictor__estimator__tol', 'predictor__estimator__verbose', 'predictor__estimator__warm_start', 'predictor__estimator', 'predictor__n_jobs'])"
      ]
     },
     "execution_count": 11,
     "metadata": {},
     "output_type": "execute_result"
    }
   ],
   "source": [
    "pipeline.get_params().keys()\n",
    "# pipeline.get_params().items()"
   ]
  },
  {
   "cell_type": "code",
   "execution_count": 12,
   "metadata": {
    "scrolled": true
   },
   "outputs": [
    {
     "data": {
      "text/plain": [
       "GridSearchCV(cv=None, error_score='raise',\n",
       "       estimator=Pipeline(memory=None,\n",
       "     steps=[('vect', CountVectorizer(analyzer='word', binary=False, decode_error='strict',\n",
       "        dtype=<class 'numpy.int64'>, encoding='utf-8', input='content',\n",
       "        lowercase=True, max_df=1.0, max_features=None, min_df=1,\n",
       "        ngram_range=(1, 1), preprocessor=None, stop_words=None,\n",
       "        strip...None, solver='liblinear', tol=0.0001,\n",
       "          verbose=0, warm_start=False),\n",
       "           n_jobs=1))]),\n",
       "       fit_params=None, iid=True, n_jobs=1,\n",
       "       param_grid={'predictor__estimator__random_state': [13], 'predictor__estimator__solver': ['liblinear'], 'predictor__estimator__max_iter': [100], 'predictor__estimator__class_weight': [None]},\n",
       "       pre_dispatch='2*n_jobs', refit=True, return_train_score=True,\n",
       "       scoring=None, verbose=0)"
      ]
     },
     "execution_count": 12,
     "metadata": {},
     "output_type": "execute_result"
    }
   ],
   "source": [
    "parameters = dict(\n",
    "#     tfidf__norm=['l1'],\n",
    "\n",
    "    predictor__estimator__random_state=[13], \n",
    "    \n",
    "    # RandomForestClassifier\n",
    "#     predictor__estimator__criterion=['entropy'], \n",
    "\n",
    "    # Rogistic regression\n",
    "    predictor__estimator__solver=['liblinear'], #['liblinear', 'lbfgs', 'saga'],\n",
    "    predictor__estimator__max_iter = [100],\n",
    "    predictor__estimator__class_weight = [None], #[None, 'balanced'], \n",
    "# #     predictor__estimator__penalty = ['l2', 'elasticnet', 'none']\n",
    ")\n",
    "\n",
    "cv = GridSearchCV(pipeline, parameters,return_train_score =True)\n",
    "cv.fit(X_train, Y_train)"
   ]
  },
  {
   "cell_type": "markdown",
   "metadata": {},
   "source": [
    "### 7. Test your model\n",
    "Show the accuracy, precision, and recall of the tuned model.  \n",
    "\n",
    "Since this project focuses on code quality, process, and  pipelines, there is no minimum performance metric needed to pass. However, make sure to fine tune your models for accuracy, precision and recall to make your project stand out - especially for your portfolio!"
   ]
  },
  {
   "cell_type": "code",
   "execution_count": 13,
   "metadata": {},
   "outputs": [
    {
     "data": {
      "text/plain": [
       "{'mean_fit_time': array([ 67.30714027]),\n",
       " 'std_fit_time': array([ 1.66976154]),\n",
       " 'mean_score_time': array([ 32.12772679]),\n",
       " 'std_score_time': array([ 0.31852083]),\n",
       " 'param_predictor__estimator__class_weight': masked_array(data = [None],\n",
       "              mask = [False],\n",
       "        fill_value = ?),\n",
       " 'param_predictor__estimator__max_iter': masked_array(data = [100],\n",
       "              mask = [False],\n",
       "        fill_value = ?),\n",
       " 'param_predictor__estimator__random_state': masked_array(data = [13],\n",
       "              mask = [False],\n",
       "        fill_value = ?),\n",
       " 'param_predictor__estimator__solver': masked_array(data = ['liblinear'],\n",
       "              mask = [False],\n",
       "        fill_value = ?),\n",
       " 'params': [{'predictor__estimator__class_weight': None,\n",
       "   'predictor__estimator__max_iter': 100,\n",
       "   'predictor__estimator__random_state': 13,\n",
       "   'predictor__estimator__solver': 'liblinear'}],\n",
       " 'split0_test_score': array([ 0.28006112]),\n",
       " 'split1_test_score': array([ 0.26111536]),\n",
       " 'split2_test_score': array([ 0.27563025]),\n",
       " 'mean_test_score': array([ 0.27226891]),\n",
       " 'std_test_score': array([ 0.00809154]),\n",
       " 'rank_test_score': array([1], dtype=int32),\n",
       " 'split0_train_score': array([ 0.35721925]),\n",
       " 'split1_train_score': array([ 0.36142093]),\n",
       " 'split2_train_score': array([ 0.35805959]),\n",
       " 'mean_train_score': array([ 0.35889992]),\n",
       " 'std_train_score': array([ 0.00181533])}"
      ]
     },
     "execution_count": 13,
     "metadata": {},
     "output_type": "execute_result"
    }
   ],
   "source": [
    "cv.cv_results_"
   ]
  },
  {
   "cell_type": "code",
   "execution_count": 14,
   "metadata": {
    "scrolled": true
   },
   "outputs": [
    {
     "data": {
      "text/plain": [
       "{'predictor__estimator__class_weight': None,\n",
       " 'predictor__estimator__max_iter': 100,\n",
       " 'predictor__estimator__random_state': 13,\n",
       " 'predictor__estimator__solver': 'liblinear'}"
      ]
     },
     "execution_count": 14,
     "metadata": {},
     "output_type": "execute_result"
    }
   ],
   "source": [
    "cv.best_params_"
   ]
  },
  {
   "cell_type": "code",
   "execution_count": 36,
   "metadata": {},
   "outputs": [
    {
     "name": "stdout",
     "output_type": "stream",
     "text": [
      "                        accuracy precision    recall  f1-score distribution-0  \\\n",
      "death                   0.963025      0.78      0.62      0.55       0.955233   \n",
      "fire                    0.990833      0.75      0.52      0.37        0.99068   \n",
      "direct_report           0.865393      0.78       0.7      0.68       0.807334   \n",
      "water                   0.961192      0.83      0.76      0.74       0.932315   \n",
      "medical_products        0.952941      0.77      0.59      0.51       0.945913   \n",
      "military                0.968526      0.75      0.55      0.44       0.966998   \n",
      "medical_help            0.927273      0.76      0.59      0.51       0.918717   \n",
      "transport               0.957066      0.75      0.54      0.41       0.954469   \n",
      "electricity             0.981513      0.76      0.55      0.45       0.980749   \n",
      "buildings               0.954163      0.77       0.6      0.53       0.948358   \n",
      "shops                     0.9945      0.25       0.5      0.33         0.9945   \n",
      "security                0.982582      0.25       0.5      0.33       0.982582   \n",
      "storm                   0.934454      0.81      0.72       0.7       0.900688   \n",
      "food                     0.93919      0.84      0.79      0.78       0.884339   \n",
      "related                 0.822002      0.76      0.67      0.64       0.759664   \n",
      "other_weather           0.941482      0.72      0.51      0.36       0.941635   \n",
      "missing_people          0.990069      0.75      0.51      0.35       0.989916   \n",
      "other_aid               0.876089      0.73      0.55      0.45       0.869366   \n",
      "request                 0.895646      0.81      0.74      0.73        0.82628   \n",
      "clothing                0.986707      0.77      0.57      0.47       0.985027   \n",
      "aid_centers             0.988694      0.25       0.5      0.33       0.988694   \n",
      "weather_related          0.87288      0.84      0.81      0.81       0.712911   \n",
      "earthquake              0.957983      0.86      0.81       0.8       0.902827   \n",
      "shelter                 0.941024      0.81      0.72      0.69       0.909396   \n",
      "floods                  0.948816      0.81      0.69      0.66        0.92055   \n",
      "cold                    0.982735      0.77      0.57      0.47       0.980443   \n",
      "offer                   0.995264      0.25       0.5      0.33       0.995264   \n",
      "refugees                0.969442      0.74      0.53       0.4       0.969137   \n",
      "money                   0.979374      0.75      0.52      0.39       0.978457   \n",
      "other_infrastructure    0.952941      0.73      0.51      0.35       0.952941   \n",
      "aid_related             0.781207      0.78      0.77      0.76       0.582277   \n",
      "search_and_rescue       0.975707      0.76      0.53       0.4       0.974332   \n",
      "infrastructure_related  0.933995      0.73      0.52      0.37       0.933079   \n",
      "tools                   0.993583      0.25       0.5      0.33       0.993583   \n",
      "hospitals               0.990985      0.75      0.52      0.37       0.990833   \n",
      "avg                     0.947122  0.699143  0.602286  0.508286       0.923414   \n",
      "\n",
      "                       distribution-1  \n",
      "death                        0.044767  \n",
      "fire                       0.00932009  \n",
      "direct_report                0.192666  \n",
      "water                       0.0676853  \n",
      "medical_products            0.0540871  \n",
      "military                    0.0330023  \n",
      "medical_help                0.0812834  \n",
      "transport                   0.0455309  \n",
      "electricity                 0.0192513  \n",
      "buildings                   0.0516425  \n",
      "shops                      0.00550038  \n",
      "security                    0.0174179  \n",
      "storm                       0.0993125  \n",
      "food                         0.115661  \n",
      "related                      0.240336  \n",
      "other_weather               0.0583652  \n",
      "missing_people               0.010084  \n",
      "other_aid                    0.130634  \n",
      "request                       0.17372  \n",
      "clothing                    0.0149733  \n",
      "aid_centers                 0.0113063  \n",
      "weather_related              0.287089  \n",
      "earthquake                  0.0971734  \n",
      "shelter                     0.0906035  \n",
      "floods                        0.07945  \n",
      "cold                        0.0195569  \n",
      "offer                      0.00473644  \n",
      "refugees                    0.0308633  \n",
      "money                       0.0215432  \n",
      "other_infrastructure        0.0470588  \n",
      "aid_related                  0.417723  \n",
      "search_and_rescue           0.0256684  \n",
      "infrastructure_related      0.0669213  \n",
      "tools                      0.00641711  \n",
      "hospitals                   0.0091673  \n",
      "avg                         0.0765863  \n",
      "{'predictor__estimator__class_weight': None, 'predictor__estimator__max_iter': 100, 'predictor__estimator__random_state': 13, 'predictor__estimator__solver': 'liblinear'}\n",
      "Evaluation report is generated in models/eval_report_markdown.txt\n"
     ]
    },
    {
     "name": "stderr",
     "output_type": "stream",
     "text": [
      "/opt/conda/lib/python3.6/site-packages/sklearn/metrics/classification.py:1135: UndefinedMetricWarning: Precision and F-score are ill-defined and being set to 0.0 in labels with no predicted samples.\n",
      "  'precision', 'predicted', average, warn_for)\n"
     ]
    }
   ],
   "source": [
    "generate_classification_report(cv, X_test, Y_test, category_names)"
   ]
  },
  {
   "cell_type": "markdown",
   "metadata": {},
   "source": [
    "### 8. Try improving your model further. Here are a few ideas:\n",
    "* try other machine learning algorithms\n",
    "* add other features besides the TF-IDF"
   ]
  },
  {
   "cell_type": "markdown",
   "metadata": {},
   "source": [
    "1. solve the skewness of the data itself \n",
    "2. add a custum transformer, ~ action word extractor? \n",
    "3. This is a document level task, no need to consider wor2vec feature "
   ]
  },
  {
   "cell_type": "markdown",
   "metadata": {},
   "source": [
    "### 9. Export your model as a pickle file"
   ]
  },
  {
   "cell_type": "code",
   "execution_count": null,
   "metadata": {},
   "outputs": [],
   "source": [
    "import pickle \n",
    "filename = 'disaster_reponse_final.pkl'\n",
    "pickle.dump(cv, open(filename, 'wb')) "
   ]
  },
  {
   "cell_type": "markdown",
   "metadata": {},
   "source": [
    "### 10. Use this notebook to complete `train.py`\n",
    "Use the template file attached in the Resources folder to write a script that runs the steps above to create a database and export a model based on a new dataset specified by the user."
   ]
  }
 ],
 "metadata": {
  "kernelspec": {
   "display_name": "Python 3",
   "language": "python",
   "name": "python3"
  },
  "language_info": {
   "codemirror_mode": {
    "name": "ipython",
    "version": 3
   },
   "file_extension": ".py",
   "mimetype": "text/x-python",
   "name": "python",
   "nbconvert_exporter": "python",
   "pygments_lexer": "ipython3",
   "version": "3.6.3"
  }
 },
 "nbformat": 4,
 "nbformat_minor": 2
}
